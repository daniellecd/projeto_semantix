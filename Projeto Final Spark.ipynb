{
 "cells": [
  {
   "attachments": {
    "smtx-logo-purple2.png": {
     "image/png": "[encoded data removed]"
    }
   },
   "cell_type": "markdown",
   "metadata": {},
   "source": [
    "![smtx-logo-purple2.png](attachment:smtx-logo-purple2.png)"
   ]
  },
  {
   "cell_type": "markdown",
   "metadata": {},
   "source": [
    "<h3>Projeto Final de Spark - Nível Básico</h3>\n",
    "\n",
    "**Campanha Nacional de Vacinação contra Covid-19**: [Dados](https://mobileapps.saude.gov.br/esus-vepi/files/unAFkcaNDeXajurGB7LChj8SgQYS2ptm/04bd3419b22b9cc5c6efac2c6528100d_HIST_PAINEL_COVIDBR_06jul2021.rar) e [Referência das Visualizações](https://covid.saude.gov.br/)\n",
    "\n",
    "Aluna: Danielle Calazans Dondoni"
   ]
  },
  {
   "cell_type": "markdown",
   "metadata": {},
   "source": [
    "#### Descrição das fórmulas que serão utilizadas para obter os dados do painel\n",
    "\n",
    "- <span style='color:Blue'> Coeficiente de Incidência: </span> Número de casos confirmados de COVID-19, por 100 mil habitantes, na população residente em determinado espaço geográfico, no período considerado. \n",
    "\n",
    "- <span style='color:Blue'> Coeficiente de Mortalidade:</span> Número de óbitos por doenças COVID-19, por 100 mil habitantes, na população residente em determinado espaço geográfico, no período considerado.\n",
    "\n",
    "- <span style='color:Blue'>Taxa de Letalidade:</span> Número de óbitos confirmados de COVID-19 em relação ao total de casos confirmados, na população residente em determinado espaço geográfico, no período considerado."
   ]
  },
  {
   "cell_type": "code",
   "execution_count": 1,
   "metadata": {},
   "outputs": [],
   "source": [
    "# Importação dos pacotes necessários\n",
    "\n",
    "from pyspark.sql.functions import *\n",
    "from pyspark.sql.types import *\n",
    "from pyspark.sql import functions as f"
   ]
  },
  {
   "cell_type": "markdown",
   "metadata": {},
   "source": [
    "### 1 - Enviar os dados para o hdfs"
   ]
  },
  {
   "cell_type": "markdown",
   "metadata": {},
   "source": [
    "Etapa realizada no terminal.\n",
    "\n",
    "Passo a passo detalhado neste breve tutorial: [AQUI](https://github.com/daniellecd/projeto_semantix/blob/main/Ambiente%20de%20Desenvolvimento.md)"
   ]
  },
  {
   "cell_type": "code",
   "execution_count": 2,
   "metadata": {},
   "outputs": [
    {
     "name": "stdout",
     "output_type": "stream",
     "text": [
      "-rw-r--r--   3 root supergroup   62492959 2021-07-13 22:00 /user/danielle/covid/HIST_PAINEL_COVIDBR_2020_Parte1_06jul2021.csv\r\n",
      "-rw-r--r--   3 root supergroup   76520681 2021-07-13 22:00 /user/danielle/covid/HIST_PAINEL_COVIDBR_2020_Parte2_06jul2021.csv\r\n",
      "-rw-r--r--   3 root supergroup   91120916 2021-07-13 22:00 /user/danielle/covid/HIST_PAINEL_COVIDBR_2021_Parte1_06jul2021.csv\r\n",
      "-rw-r--r--   3 root supergroup    3046774 2021-07-13 22:01 /user/danielle/covid/HIST_PAINEL_COVIDBR_2021_Parte2_06jul2021.csv\r\n"
     ]
    }
   ],
   "source": [
    "# Listagem dos arquivos presentes no hdfs\n",
    "\n",
    "!hdfs dfs -ls -R /user/danielle/covid"
   ]
  },
  {
   "cell_type": "code",
   "execution_count": 3,
   "metadata": {},
   "outputs": [
    {
     "name": "stdout",
     "output_type": "stream",
     "text": [
      "root\n",
      " |-- regiao: string (nullable = true)\n",
      " |-- estado: string (nullable = true)\n",
      " |-- municipio: string (nullable = true)\n",
      " |-- coduf: integer (nullable = true)\n",
      " |-- codmun: integer (nullable = true)\n",
      " |-- codRegiaoSaude: integer (nullable = true)\n",
      " |-- nomeRegiaoSaude: string (nullable = true)\n",
      " |-- data: timestamp (nullable = true)\n",
      " |-- semanaEpi: integer (nullable = true)\n",
      " |-- populacaoTCU2019: integer (nullable = true)\n",
      " |-- casosAcumulado: decimal(10,0) (nullable = true)\n",
      " |-- casosNovos: integer (nullable = true)\n",
      " |-- obitosAcumulado: integer (nullable = true)\n",
      " |-- obitosNovos: integer (nullable = true)\n",
      " |-- Recuperadosnovos: integer (nullable = true)\n",
      " |-- emAcompanhamentoNovos: integer (nullable = true)\n",
      " |-- interior/metropolitana: integer (nullable = true)\n",
      "\n"
     ]
    }
   ],
   "source": [
    "# Leitura dos dados e visualizaçõs do schema\n",
    "\n",
    "df = spark.read.csv(\"/user/danielle/covid/*.csv\", sep =';', header = True, inferSchema = True)\n",
    "df.printSchema()"
   ]
  },
  {
   "cell_type": "code",
   "execution_count": 4,
   "metadata": {},
   "outputs": [],
   "source": [
    "# Ajuste do tipo dos dados - Informações são diárias, não necessita do campo hora\n",
    "\n",
    "df = df.withColumn('data', f.from_unixtime(f.unix_timestamp(df.data), \"yyyy-MM-dd\"))\n",
    "df = df.withColumn(\"obitosAcumulado\", col(\"obitosAcumulado\").cast(IntegerType()))"
   ]
  },
  {
   "cell_type": "code",
   "execution_count": 5,
   "metadata": {},
   "outputs": [
    {
     "name": "stdout",
     "output_type": "stream",
     "text": [
      "+----------+------+----------+--------------+\n",
      "|data      |regiao|casosNovos|casosAcumulado|\n",
      "+----------+------+----------+--------------+\n",
      "|2020-02-25|Brasil|0         |0             |\n",
      "|2020-02-26|Brasil|1         |1             |\n",
      "|2020-02-27|Brasil|0         |1             |\n",
      "|2020-02-28|Brasil|0         |1             |\n",
      "|2020-02-29|Brasil|1         |2             |\n",
      "|2020-03-01|Brasil|0         |2             |\n",
      "|2020-03-02|Brasil|0         |2             |\n",
      "|2020-03-03|Brasil|0         |2             |\n",
      "|2020-03-04|Brasil|1         |3             |\n",
      "|2020-03-05|Brasil|4         |7             |\n",
      "+----------+------+----------+--------------+\n",
      "only showing top 10 rows\n",
      "\n"
     ]
    }
   ],
   "source": [
    "# Visualização de quatro colunas da tabela dados\n",
    "\n",
    "df.select('data','regiao','casosNovos','casosAcumulado').show(10, truncate = False)"
   ]
  },
  {
   "cell_type": "markdown",
   "metadata": {},
   "source": [
    "### 2 - Otimizar todos os dados do hdfs para uma tabela Hive particionada por município"
   ]
  },
  {
   "cell_type": "code",
   "execution_count": null,
   "metadata": {},
   "outputs": [],
   "source": [
    "# Salvando os dados em tabela Hive particionada por município\n",
    "\n",
    "df.write.mode('overwrite').partitionBy('municipio').saveAsTable('danielle.projeto')"
   ]
  },
  {
   "cell_type": "code",
   "execution_count": 6,
   "metadata": {},
   "outputs": [
    {
     "name": "stdout",
     "output_type": "stream",
     "text": [
      "Found 1 items\r\n",
      "drwxr-xr-x   - root supergroup          0 2021-07-18 03:04 /user/hive/warehouse/danielle.db/projeto\r\n"
     ]
    }
   ],
   "source": [
    "# Identificação da tabela Hive criada\n",
    "\n",
    "!hdfs dfs -ls /user/hive/warehouse/danielle.db"
   ]
  },
  {
   "cell_type": "code",
   "execution_count": 7,
   "metadata": {},
   "outputs": [
    {
     "name": "stdout",
     "output_type": "stream",
     "text": [
      "+-----------------------------+\n",
      "|partition                    |\n",
      "+-----------------------------+\n",
      "|municipio=Abadia de Goiás    |\n",
      "|municipio=Abadia dos Dourados|\n",
      "|municipio=Abadiânia          |\n",
      "|municipio=Abaetetuba         |\n",
      "|municipio=Abaeté             |\n",
      "|municipio=Abaiara            |\n",
      "|municipio=Abaré              |\n",
      "|municipio=Abatiá             |\n",
      "|municipio=Abaíra             |\n",
      "|municipio=Abdon Batista      |\n",
      "+-----------------------------+\n",
      "only showing top 10 rows\n",
      "\n"
     ]
    }
   ],
   "source": [
    "# Visualização das partições criadas - apenas as 10 primeiras em ordem alfabética\n",
    "\n",
    "spark.sql('show partitions danielle.projeto').show(10, truncate = False)"
   ]
  },
  {
   "cell_type": "markdown",
   "metadata": {},
   "source": [
    " ### 3 - Criar as 3 visualizações pelo Spark com os dados enviados para o HDFS"
   ]
  },
  {
   "cell_type": "markdown",
   "metadata": {},
   "source": [
    "<span style='color:Purple'> **PAINEL 1 - Casos Recuperados**</span>"
   ]
  },
  {
   "cell_type": "code",
   "execution_count": 8,
   "metadata": {},
   "outputs": [],
   "source": [
    "# Os dados estão atualizados até o dia 06/07/2021\n",
    "\n",
    "data = \"2021-07-06\"\n",
    "br = df.where((df.regiao == 'Brasil') & (df.data == data))"
   ]
  },
  {
   "cell_type": "code",
   "execution_count": 9,
   "metadata": {},
   "outputs": [
    {
     "name": "stdout",
     "output_type": "stream",
     "text": [
      "+------+-----------------+-----------------+\n",
      "|Região|Casos_Recuperados|Em_Acompanhamento|\n",
      "+------+-----------------+-----------------+\n",
      "|Brasil|         17262646|          1065477|\n",
      "+------+-----------------+-----------------+\n",
      "\n"
     ]
    }
   ],
   "source": [
    "# Número de casos recuperados e em acompanhamento - nível nacional (06/07/2021)\n",
    "\n",
    "recuperados_br = br.select(br['regiao'].alias('Região'),\\\n",
    "                           br['Recuperadosnovos'].alias('Casos_Recuperados'),\\\n",
    "                           br['emAcompanhamentoNovos'].alias('Em_Acompanhamento'))\n",
    "recuperados_br.show()"
   ]
  },
  {
   "cell_type": "markdown",
   "metadata": {},
   "source": [
    "<span style='color:Purple'> **PAINEL 2 - Casos Confirmados** </span>"
   ]
  },
  {
   "cell_type": "code",
   "execution_count": 10,
   "metadata": {},
   "outputs": [
    {
     "name": "stdout",
     "output_type": "stream",
     "text": [
      "+------+----------------+-----------+----------+\n",
      "|Região|Casos_Acumulados|Casos_Novos|Incidência|\n",
      "+------+----------------+-----------+----------+\n",
      "|Brasil|        18855015|      62504|    8972.3|\n",
      "+------+----------------+-----------+----------+\n",
      "\n"
     ]
    }
   ],
   "source": [
    "# Número de casos acumulados, casos novos e incidência - nível nacional (06/07/2021)\n",
    "\n",
    "casos_br = br.select(br['regiao'].alias('Região'),\\\n",
    "                     br['casosAcumulado'].alias('Casos_Acumulados'),\\\n",
    "                     br['casosNovos'].alias('Casos_Novos'),\\\n",
    "                    (f.round(br['casosAcumulado']/br['populacaoTCU2019']*100000,1)).alias('Incidência'))\n",
    "casos_br.show()"
   ]
  },
  {
   "cell_type": "markdown",
   "metadata": {},
   "source": [
    "<span style='color:Purple'> **PAINEL 3 - Óbitos Confirmados** </span>"
   ]
  },
  {
   "cell_type": "code",
   "execution_count": 11,
   "metadata": {},
   "outputs": [
    {
     "name": "stdout",
     "output_type": "stream",
     "text": [
      "+------+-----------------+------------+----------+-----------+\n",
      "|Região|Óbitos_Acumulados|Óbitos_Novos|Letalidade|Mortalidade|\n",
      "+------+-----------------+------------+----------+-----------+\n",
      "|Brasil|           526892|        1780|       2.8|      250.7|\n",
      "+------+-----------------+------------+----------+-----------+\n",
      "\n"
     ]
    }
   ],
   "source": [
    "# Número de óbitos acumulados, óbitos novos, letalidade e mortalidade - nível nacional (06/07/2021)\n",
    "\n",
    "obitos_br = br.select(br['regiao'].alias('Região'),\\\n",
    "                      br['obitosAcumulado'].alias('Óbitos_Acumulados'),\\\n",
    "                      br['obitosNovos'].alias('Óbitos_Novos'),\\\n",
    "                     (f.round(br['obitosAcumulado']/br['casosAcumulado']*100,1)).alias('Letalidade'),\\\n",
    "                     (f.round(br['obitosAcumulado']/br['populacaoTCU2019']*100000,1)).alias('Mortalidade'))\n",
    "obitos_br.show()"
   ]
  },
  {
   "cell_type": "markdown",
   "metadata": {},
   "source": [
    "### 4 - Salvar a primeira visualização como tabela Hive."
   ]
  },
  {
   "cell_type": "code",
   "execution_count": 12,
   "metadata": {},
   "outputs": [
    {
     "name": "stdout",
     "output_type": "stream",
     "text": [
      "Found 3 items\r\n",
      "-rw-r--r--   2 root supergroup          0 2021-07-18 23:14 /user/hive/warehouse/recuperados_br_covid/_SUCCESS\r\n",
      "-rw-r--r--   2 root supergroup        483 2021-07-18 23:14 /user/hive/warehouse/recuperados_br_covid/part-00000-8953201c-6168-4d7d-9442-fe400325d2e3-c000.snappy.parquet\r\n",
      "-rw-r--r--   2 root supergroup        917 2021-07-18 23:14 /user/hive/warehouse/recuperados_br_covid/part-00003-8953201c-6168-4d7d-9442-fe400325d2e3-c000.snappy.parquet\r\n"
     ]
    }
   ],
   "source": [
    "# Criação e identificação da tabela Hive com os dados do primeiro painel\n",
    "# Por padrão o método save() salva no formato parquet e compressão snappy\n",
    "\n",
    "recuperados_br.write.mode('overwrite').saveAsTable('recuperados_br_covid')\n",
    "!hdfs dfs -ls /user/hive/warehouse/recuperados_br_covid"
   ]
  },
  {
   "cell_type": "markdown",
   "metadata": {},
   "source": [
    "### 5 - Salvar a segunda visualização com formato parquet e compressão snappy."
   ]
  },
  {
   "cell_type": "code",
   "execution_count": 13,
   "metadata": {},
   "outputs": [
    {
     "name": "stdout",
     "output_type": "stream",
     "text": [
      "Found 3 items\r\n",
      "-rw-r--r--   2 root supergroup          0 2021-07-18 23:14 /user/danielle/casos_br_covid/_SUCCESS\r\n",
      "-rw-r--r--   2 root supergroup        586 2021-07-18 23:14 /user/danielle/casos_br_covid/part-00000-50685cea-5433-4a9b-96e8-ce073e14d31c-c000.snappy.parquet\r\n",
      "-rw-r--r--   2 root supergroup       1257 2021-07-18 23:14 /user/danielle/casos_br_covid/part-00003-50685cea-5433-4a9b-96e8-ce073e14d31c-c000.snappy.parquet\r\n"
     ]
    }
   ],
   "source": [
    "# Criação e identificação da tabela Hive com os dados do segundo painel\n",
    "# Por padrão o método save() salva no formato parquet e compressão snappy\n",
    "\n",
    "casos_br.write.mode('overwrite').save('/user/danielle/casos_br_covid')\n",
    "!hdfs dfs -ls /user/danielle/casos_br_covid"
   ]
  },
  {
   "cell_type": "markdown",
   "metadata": {},
   "source": [
    "### 6 - Salvar a terceira visualização em um tópico no Kafka."
   ]
  },
  {
   "cell_type": "code",
   "execution_count": 14,
   "metadata": {},
   "outputs": [],
   "source": [
    "# Criação de um tópico no kafka com os dados do terceiro painel\n",
    "# As colunas serão transformadas em um json para enviar todos os dados em um unico tópico\n",
    "\n",
    "obitos_br\\\n",
    "    .selectExpr(\"to_json(struct(*)) AS value\")\\\n",
    "    .write\\\n",
    "    .format('kafka')\\\n",
    "    .option('kafka.bootstrap.servers', 'kafka:9092')\\\n",
    "    .option('topic', 'obitos_brasil')\\\n",
    "    .save()"
   ]
  },
  {
   "cell_type": "code",
   "execution_count": 15,
   "metadata": {},
   "outputs": [
    {
     "name": "stdout",
     "output_type": "stream",
     "text": [
      "+-------------------------------------------------------------------------------------------------------+\n",
      "|value                                                                                                  |\n",
      "+-------------------------------------------------------------------------------------------------------+\n",
      "|{\"Região\":\"Brasil\",\"Óbitos_Acumulados\":526892,\"Óbitos_Novos\":1780,\"Letalidade\":2.8,\"Mortalidade\":250.7}|\n",
      "+-------------------------------------------------------------------------------------------------------+\n",
      "\n"
     ]
    }
   ],
   "source": [
    "# Para conferir a criação do tópico, realizamos a leitura dele\n",
    "\n",
    "obitos_topic = spark.read\\\n",
    "    .format('kafka')\\\n",
    "    .option('kafka.bootstrap.servers', 'kafka:9092')\\\n",
    "    .option('subscribe','obitos_brasil') \\\n",
    "    .load()\n",
    "\n",
    "topic_string = obitos_topic.select(col('value').cast('string'))\n",
    "topic_string.show(truncate = False)"
   ]
  },
  {
   "cell_type": "markdown",
   "metadata": {},
   "source": [
    "### 7 - Criar a visualização pelo Spark com os dados enviados para o HDFS."
   ]
  },
  {
   "cell_type": "markdown",
   "metadata": {},
   "source": [
    "<span style='color:Purple'> **PAINEL 4 - Síntese de casos, óbitos, incidência e mortalidade** </span>"
   ]
  },
  {
   "cell_type": "code",
   "execution_count": 16,
   "metadata": {},
   "outputs": [
    {
     "name": "stdout",
     "output_type": "stream",
     "text": [
      "+------------+------+----------------+-----------------+----------+-----------+\n",
      "|      regiao|estado|Casos_Acumulados|Óbitos_Acumulados|Incidência|Mortalidade|\n",
      "+------------+------+----------------+-----------------+----------+-----------+\n",
      "|      Brasil|  null|        18855015|           526892|    8972.3|      250.7|\n",
      "|Centro-Oeste|    GO|          686433|            19485|    9780.5|      277.6|\n",
      "|Centro-Oeste|    DF|          434708|             9322|   14416.9|      309.2|\n",
      "|Centro-Oeste|    MS|          339323|             8400|   12210.3|      302.3|\n",
      "|Centro-Oeste|    MT|          456155|            12000|   13091.1|      344.4|\n",
      "|    Nordeste|    MA|          322052|             9190|    4551.9|      129.9|\n",
      "|    Nordeste|    PI|          299084|             6662|    9137.3|      203.5|\n",
      "|    Nordeste|    PB|          402175|             8724|   10009.0|      217.1|\n",
      "|    Nordeste|    PE|          561505|            17953|    5875.3|      187.9|\n",
      "|    Nordeste|    BA|         1141612|            24428|    7675.7|      164.2|\n",
      "|    Nordeste|    AL|          220793|             5450|    6615.8|      163.3|\n",
      "|    Nordeste|    RN|          347248|             6853|    9902.0|      195.4|\n",
      "|    Nordeste|    CE|          894678|            22791|    9797.1|      249.6|\n",
      "|    Nordeste|    SE|          266590|             5773|   11597.4|      251.1|\n",
      "|       Norte|    AP|          118066|             1857|   13960.2|      219.6|\n",
      "|       Norte|    TO|          200243|             3266|   12731.1|      207.6|\n",
      "|       Norte|    AC|           85997|             1760|    9750.9|      199.6|\n",
      "|       Norte|    AM|          405066|            13349|    9773.4|      322.1|\n",
      "|       Norte|    RR|          113758|             1763|   18779.4|      291.0|\n",
      "|       Norte|    RO|          252024|             6226|   14180.8|      350.3|\n",
      "|       Norte|    PA|          557708|            15624|    6482.8|      181.6|\n",
      "|     Sudeste|    RJ|          970268|            56192|    5619.9|      325.5|\n",
      "|     Sudeste|    SP|         3809222|           130389|    8295.5|      284.0|\n",
      "|     Sudeste|    ES|          523115|            11582|   13017.2|      288.2|\n",
      "|     Sudeste|    MG|         1836198|            47148|    8674.1|      222.7|\n",
      "|         Sul|    RS|         1235914|            31867|   10863.0|      280.1|\n",
      "|         Sul|    PR|         1308643|            31692|   11445.2|      277.2|\n",
      "|         Sul|    SC|         1066484|            17146|   14885.1|      239.3|\n",
      "+------------+------+----------------+-----------------+----------+-----------+\n",
      "\n"
     ]
    }
   ],
   "source": [
    "# Número de casos acumulados, óbitos acumulados, incidência e mortalidade - nível regional (06/07/2021)\n",
    "\n",
    "sintese = df.groupBy(['regiao', 'estado'])\\\n",
    "            .agg({'casosAcumulado':'max', 'obitosAcumulado':'max', 'populacaoTCU2019':'max'})\n",
    "\n",
    "sintese = (sintese\n",
    "       .withColumnRenamed('max(populacaoTCU2019)','População')\n",
    "       .withColumnRenamed('max(casosAcumulado)', 'Casos_Acumulados')\n",
    "       .withColumnRenamed('max(obitosAcumulado)','Óbitos_Acumulados'))\n",
    "\n",
    "sintese = (sintese\n",
    "           .withColumn('Incidência', f.round(sintese['Casos_Acumulados']/sintese['População']*100000,1))\n",
    "           .withColumn('Mortalidade', f.round(sintese['Óbitos_Acumulados']/sintese['População']*100000,1)))\n",
    "                             \n",
    "                             \n",
    "sintese.drop('População').sort(col('regiao').asc()).show(30)"
   ]
  },
  {
   "cell_type": "markdown",
   "metadata": {},
   "source": [
    "### 8 - Salvar a visualização do exercício 6 em um tópico no Elastic."
   ]
  },
  {
   "cell_type": "code",
   "execution_count": 17,
   "metadata": {},
   "outputs": [
    {
     "name": "stdout",
     "output_type": "stream",
     "text": [
      "Requirement already satisfied: elasticsearch in /opt/anaconda3/lib/python3.6/site-packages (7.13.3)\r\n",
      "Requirement already satisfied: urllib3<2,>=1.21.1 in /opt/anaconda3/lib/python3.6/site-packages (from elasticsearch) (1.22)\r\n",
      "Requirement already satisfied: certifi in /opt/anaconda3/lib/python3.6/site-packages (from elasticsearch) (2019.11.28)\r\n"
     ]
    }
   ],
   "source": [
    "# Instalação do pacote necessário\n",
    "\n",
    "!pip install elasticsearch"
   ]
  },
  {
   "cell_type": "markdown",
   "metadata": {},
   "source": [
    "Não esquecer de verificar se o conector ES-Hadoop está instalado. Acessar http://localhost:4040/environment/ e na seção Classpath Entries verificar a presença do jar /opt/spark/jars/elasticsearch-hadoop-7.9.2.jar"
   ]
  },
  {
   "cell_type": "code",
   "execution_count": 18,
   "metadata": {},
   "outputs": [
    {
     "data": {
      "text/plain": [
       "{'name': 'node1',\n",
       " 'cluster_name': 'my_cluster',\n",
       " 'cluster_uuid': 'IZubO8f9R5GaDYME2tnfZw',\n",
       " 'version': {'number': '7.9.2',\n",
       "  'build_flavor': 'default',\n",
       "  'build_type': 'docker',\n",
       "  'build_hash': 'd34da0ea4a966c4e49417f2da2f244e3e97b4e6e',\n",
       "  'build_date': '2020-09-23T00:45:33.626720Z',\n",
       "  'build_snapshot': False,\n",
       "  'lucene_version': '8.6.2',\n",
       "  'minimum_wire_compatibility_version': '6.8.0',\n",
       "  'minimum_index_compatibility_version': '6.0.0-beta1'},\n",
       " 'tagline': 'You Know, for Search'}"
      ]
     },
     "execution_count": 18,
     "metadata": {},
     "output_type": "execute_result"
    }
   ],
   "source": [
    "from elasticsearch import Elasticsearch\n",
    "\n",
    "# Configurando a conexão com o Elastic\n",
    "es = Elasticsearch('host.docker.internal:9200')\n",
    "\n",
    "# Verificando a configuração do Elastichsearch\n",
    "es.info(pretty=True)"
   ]
  },
  {
   "cell_type": "code",
   "execution_count": 19,
   "metadata": {},
   "outputs": [],
   "source": [
    "# A visualização do exercício 6 é o terceito painel, com dataframe de nome obitos_br\n",
    "# Transformando o tipo da coluna para float\n",
    "\n",
    "obitos_br = obitos_br.withColumn(\"Letalidade\", col(\"Letalidade\").cast(FloatType()))\\\n",
    "                     .withColumn(\"Mortalidade\", col(\"Mortalidade\").cast(FloatType()))"
   ]
  },
  {
   "cell_type": "code",
   "execution_count": 20,
   "metadata": {},
   "outputs": [],
   "source": [
    "# Enviando os dados para o Elastic\n",
    "\n",
    "obitos_br.write.format(\"org.elasticsearch.spark.sql\") \\\n",
    "                .option(\"es.nodes\", \"host.docker.internal\") \\\n",
    "                .option(\"es.port\", '9200')\\\n",
    "                .option(\"es.resource\", 'br_dashboard/sample') \\\n",
    "                .option(\"es.nodes.wan.only\", \"true\") \\\n",
    "                .mode('overwrite')\\\n",
    "                .save()"
   ]
  },
  {
   "cell_type": "code",
   "execution_count": 21,
   "metadata": {},
   "outputs": [
    {
     "data": {
      "text/plain": [
       "{'took': 0,\n",
       " 'timed_out': False,\n",
       " '_shards': {'total': 1, 'successful': 1, 'skipped': 0, 'failed': 0},\n",
       " 'hits': {'total': {'value': 1, 'relation': 'eq'},\n",
       "  'max_score': 1.0,\n",
       "  'hits': [{'_index': 'br_dashboard',\n",
       "    '_type': 'sample',\n",
       "    '_id': 'B8Xou3oB5NJPXsQ5LRa7',\n",
       "    '_score': 1.0,\n",
       "    '_source': {'Região': 'Brasil',\n",
       "     'Óbitos_Acumulados': 526892,\n",
       "     'Óbitos_Novos': 1780,\n",
       "     'Letalidade': 2.8,\n",
       "     'Mortalidade': 250.7}}]}}"
      ]
     },
     "execution_count": 21,
     "metadata": {},
     "output_type": "execute_result"
    }
   ],
   "source": [
    "# Verificando os dados no Elastic\n",
    "\n",
    "es.search(index=\"br_dashboard\")"
   ]
  },
  {
   "cell_type": "markdown",
   "metadata": {},
   "source": [
    "### 9 - Criar um dashboard no Elastic para visualização dos novos dados enviados."
   ]
  },
  {
   "cell_type": "markdown",
   "metadata": {},
   "source": [
    "O dashboard é simples, visto que a origem dos dados contém pouca informação."
   ]
  },
  {
   "attachments": {
    "br_obitos.png": {
     "image/png": "[encoded data removed]"
    }
   },
   "cell_type": "markdown",
   "metadata": {},
   "source": [
    "![br_obitos.png](attachment:br_obitos.png)"
   ]
  }
 ],
 "metadata": {
  "kernelspec": {
   "display_name": "PySpark",
   "language": "python",
   "name": "pyspark"
  },
  "language_info": {
   "codemirror_mode": {
    "name": "ipython",
    "version": 3
   },
   "file_extension": ".py",
   "mimetype": "text/x-python",
   "name": "python",
   "nbconvert_exporter": "python",
   "pygments_lexer": "ipython3",
   "version": "3.6.10"
  }
 },
 "nbformat": 4,
 "nbformat_minor": 2
}
